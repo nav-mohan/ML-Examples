{
 "cells": [
  {
   "cell_type": "code",
   "execution_count": null,
   "id": "4badb460-0a47-4a4a-9569-26363fb3ffd4",
   "metadata": {},
   "outputs": [],
   "source": [
    "import numpy as np\n",
    "import matplotlib.pyplot as plt\n",
    "from mpl_toolkits.mplot3d import Axes3D"
   ]
  },
  {
   "cell_type": "markdown",
   "id": "6628bc77-8532-43d1-8409-6f024b0b5dc2",
   "metadata": {},
   "source": [
    "Radial basis function interpolation\n",
    "\n",
    "- you are given scattered points {x_i,f_i}\n",
    "- you want to find a function s(x_i) = f_i that interpolates these x_i,f_i \n",
    "- this function shuld be smooth inbetween the {x_i,f_i}'s\n",
    "\n",
    "we approximate s(x) as a weighted sum of radially symmetric kernels centered at each x_i\n",
    "$$\n",
    "s(x) = \\Sigma_{i=1}^N \\omega_i \\phi(\\Vert x - x_i \\Vert)\n",
    "$$\n",
    "\n",
    "where $\\omega_i$ are unknown weights and $\\phi(r)$ is a __radial__ basis function.\n",
    "\n",
    "To find the $\\{ \\omega_i\\}$'s we ENFORCE \n",
    "$$ \n",
    "s(x_j) = \\Sigma_{i=1}^N \\omega_i \\phi(\\vert x_j - x_i\\vert) = f_j\n",
    "$$ \n",
    "\n",
    "This  gives a linear system $\\mathbf{\\Phi} \\vec{\\omega} = \\vec{f}$ where $\\Phi_{ij} = \\phi(\\vert x_i - x_j \\vert)$. \n",
    "\n",
    "Then $\\vec{\\omega} = \\mathbf{\\Phi}^{-1} \\vec{f}$\n",
    "\n",
    "Once we have the _optimized_ $\\vec{\\omega}$ we can use that for evaluating the the values in-between the $\\{x_i,f_i\\}$s\n",
    "\n",
    "questions:\n",
    "- how do you cap the $N$?\n",
    "- does s(x_j) have to be exactly equal to f_j or are we just happy with a minimization like we did with linear interpolation?\n",
    "\n",
    "\n",
    "### Common RBF choices\n",
    "- Gaussian: $\\exp[-\\epsilon r^2]$\n",
    "- Multi-Quadratic: $\\sqrt{1 + (\\epsilon r)^2}$\n",
    "- Inverse MQ: $1/\\sqrt{1 + (\\epsilon r)^2}$\n",
    "- Thin Plate Spline : $r^2 \\log(r)$"
   ]
  },
  {
   "cell_type": "code",
   "execution_count": null,
   "id": "e8b4c3ca-2421-4bd6-a7b0-855e86fb574c",
   "metadata": {
    "jupyter": {
     "source_hidden": true
    }
   },
   "outputs": [],
   "source": [
    "np.random.randn(10)/100"
   ]
  },
  {
   "cell_type": "code",
   "execution_count": null,
   "id": "3c4276e6-13ff-4823-8754-11c8535176c1",
   "metadata": {
    "jupyter": {
     "source_hidden": true
    }
   },
   "outputs": [],
   "source": [
    "# 1D example\n",
    "# we'll sample from f(x) = sin(x) \n",
    "# and then reconstruct the s(x)\n",
    "# we'll use gaussian RBF\n",
    "\n",
    "np.random.seed(0)\n",
    "nSamples = 30\n",
    "x = np.linspace(0, 2*np.pi, nSamples)\n",
    "f = np.sin(x) + np.random.randn(nSamples)/1000\n",
    "\n",
    "# Define RBF\n",
    "def gaussian_rbf(r, epsilon=1.0):\n",
    "    return np.exp(-(epsilon*r)**2)\n",
    "\n",
    "# build the Phi Matrix\n",
    "def rbf_interpolation_matrix(x,rbf,epsilon):\n",
    "    N = len(x)\n",
    "    Phi = np.zeros((N,N))\n",
    "    for i in range(N):\n",
    "        for j in range(N):\n",
    "            r = abs(x[i] - x[j])\n",
    "            Phi[i,j] = rbf(r,epsilon)\n",
    "    return Phi\n",
    "\n",
    "# compute weights\n",
    "epsilon = 1.0\n",
    "Phi = rbf_interpolation_matrix(x, gaussian_rbf, epsilon)\n",
    "w = np.linalg.solve(Phi,f)\n",
    "\n",
    "# we now haev the optimized weights\n",
    "# so lets use that to plot the function eveywhere\n",
    "\n",
    "nEvals = 200\n",
    "x_eval = np.linspace(0,2*np.pi,nEvals)\n",
    "Phi_eval = np.zeros((len(x_eval), len(x)))\n",
    "for i,xe in enumerate(x_eval):\n",
    "    r = abs(xe - x)\n",
    "    Phi_eval[i,:] = gaussian_rbf(r,epsilon)\n",
    "\n",
    "f_interp = Phi_eval @ w\n",
    "\n",
    "plt.figure(figsize=(8,5))\n",
    "plt.scatter(x, f, color='r', label='Samples')\n",
    "plt.plot(x_eval, np.sin(x_eval), 'g--', label='True function')\n",
    "plt.plot(x_eval, f_interp, 'b', label='RBF interpolation')\n",
    "plt.legend()\n",
    "plt.xlabel(\"x\")\n",
    "plt.ylabel(\"f(x)\")\n",
    "plt.title(\"RBF Interpolation using Gaussian kernel\")\n",
    "plt.show()\n"
   ]
  },
  {
   "cell_type": "markdown",
   "id": "a7b4b97f-173e-4bf2-8359-d1d400888127",
   "metadata": {},
   "source": [
    "Question - will imposing boundary conditions make it more accurate at the edges? "
   ]
  },
  {
   "cell_type": "code",
   "execution_count": null,
   "id": "d790fa93-f7e0-403a-b491-21937f286d6a",
   "metadata": {
    "jupyter": {
     "source_hidden": true
    }
   },
   "outputs": [],
   "source": []
  },
  {
   "cell_type": "code",
   "execution_count": null,
   "id": "7fb56493-bcd1-4871-adf6-8aa923f52c46",
   "metadata": {
    "jupyter": {
     "source_hidden": true
    }
   },
   "outputs": [],
   "source": [
    "# 2D version \n",
    "# f(x,y) = sin(x)*cos(y)\n",
    "\n",
    "np.random.seed(0)\n",
    "nSamples = 200\n",
    "x = np.random.uniform(-2*np.pi, 2*np.pi, nSamples)\n",
    "y = np.random.uniform(-2*np.pi, 2*np.pi, nSamples)\n",
    "f = np.sin(x)*np.cos(y) #+ np.random.randn(nSamples,nSamples)/100\n",
    "\n",
    "points = np.vstack([x,y]).T\n",
    "\n",
    "# def pairwise_dist(A,B):\n",
    "#     aElts,aDim = A.shape # number of elements, number of dimensions for each element\n",
    "#     bElts,bDim = B.shape # number of elements, number of dimensions for each element\n",
    "#     dist = np.zeros((aElts,bElts))\n",
    "#     for i in range(aElts):\n",
    "#         for j in range(bElts):\n",
    "#             diff = A[i] - B[i]\n",
    "#             dist[i,j] = np.sqrt(np.sum(diff**2)) # Euclidean norm\n",
    "    \n",
    "#     return dist\n",
    "\n",
    "# A and B are matrices. Each row of the matrix is a point in N-dimension. in this example N = 2 just (x,y)\n",
    "# efficient method for computing distances between all points in one go. numpy uses C code under the hood\n",
    "def pairwise_dist(A, B):\n",
    "    return np.linalg.norm(A[:,None,:] - B[None,:,:], axis=-1)\n",
    "\n",
    "epsilon = 1.0\n",
    "Phi = gaussian_rbf(pairwise_dist(points,points),epsilon)\n",
    "w = np.linalg.solve(Phi,f)\n",
    "\n",
    "\n",
    "# # Evaluate on a grid\n",
    "nEvals = 100\n",
    "xg = np.linspace(-2*np.pi, 2*np.pi, nEvals)\n",
    "yg = np.linspace(-2*np.pi, 2*np.pi, nEvals)\n",
    "Xg,Yg = np.meshgrid(xg,yg)\n",
    "grid = np.stack([Xg.ravel(), Yg.ravel()],axis=1)\n",
    "\n",
    "Phi_eval = gaussian_rbf(pairwise_dist(grid,points),epsilon)\n",
    "f_interp = Phi_eval @ w\n",
    "f_interp = f_interp.reshape(Xg.shape)\n",
    "\n",
    "plt.figure(figsize=(6,5))\n",
    "plt.contourf(Xg, Yg, f_interp, levels=30, cmap='viridis')\n",
    "plt.scatter(x, y, c='r', s=10)\n",
    "plt.title(\"2D RBF Interpolation\")\n",
    "plt.colorbar(label='f(x,y)')\n",
    "plt.show()\n",
    "\n",
    "# Create a 3D surface plot\n",
    "fig = plt.figure(figsize=(8, 6))\n",
    "ax = fig.add_subplot(111, projection='3d')\n",
    "\n",
    "# Plot the interpolated surface\n",
    "surf = ax.plot_surface(Xg, Yg, f_interp, cmap='viridis', edgecolor='none')\n",
    "\n",
    "# Optionally, overlay the original sample points\n",
    "# ax.scatter(x, y, f_interp.flatten()[::len(f_interp)//len(x)], c='r', s=20, label='Sample Points')\n",
    "ax.scatter(x, y, f, c='r', s=20, label='Sample Points')\n",
    "\n",
    "# Labels and title\n",
    "ax.set_title(\"3D RBF Interpolation Surface\")\n",
    "ax.set_xlabel('X')\n",
    "ax.set_ylabel('Y')\n",
    "ax.set_zlabel('f(x, y)')\n",
    "\n",
    "# Colorbar\n",
    "fig.colorbar(surf, ax=ax, shrink=0.5, aspect=10, label='f(x,y)')\n",
    "\n",
    "plt.show()\n"
   ]
  },
  {
   "cell_type": "code",
   "execution_count": null,
   "id": "a2f99e32-714f-4087-a5c8-7d6c0dab2c2a",
   "metadata": {
    "jupyter": {
     "source_hidden": true
    }
   },
   "outputs": [],
   "source": []
  },
  {
   "cell_type": "markdown",
   "id": "a132e91e-6f63-4551-986f-0f07cc1a75a8",
   "metadata": {},
   "source": [
    "## 3D point cloud interpolation\n",
    "\n",
    "- you are given a point cloud $\\{ p_i\\} \\in \\mathbb{R}^3$ which were sampled from a surface\n",
    "- find a smooth function $f(\\vec{x}) : \\mathbb{R}^3 \\rightarrow \\mathbb{R}$ such that\n",
    "    - $f(\\vec{p_i}) = 0$ and\n",
    "    - $f(x) > 0$ outside the surface and\n",
    "    - $f(x) < 0$ inside the surface\n",
    "- This is called a __zero level set__ $\\{ x | f(x) = 0\\}$\n",
    "\n",
    "We represent f(x) as an RBF plus a polynomial. The polynomial is to help avoid trivial zero solutions or if the RBF matrix were singular\n",
    "$$ f(\\vec{x}) = \\Sigma_{i=1}^{N} \\omega_i \\phi(\\vert \\vec{x} - \\vec{p_i} \\vert)  + \\vec{a}\\vec{x} + b$$ \n",
    "where $\\vec{a}$ is a constant vector and $b$ is a constant. \n",
    "\n",
    "We need to evaluate $\\vec{\\omega}, \\vec{a}, b $\n",
    "\n",
    "### TRICK - Use offset points to generate more points. \n",
    "We have points on the surface $f(\\vec{p_i}) = 0$. so to generate more points we can perturb them by a small $\\delta$ along the normal to the surface to get more points:\n",
    "- $\\vec{p_i}^+ = \\vec{p_i} + \\delta.\\hat{n}$ (outside the surfacE)\n",
    "- $\\vec{p_i}^- = \\vec{p_i} - \\delta.\\hat{n}$ (inside the surfacE)\n",
    "\n",
    "\n",
    "So now, for ecah point $\\vec{q_i}$ (which includes originals and offsets), we get \n",
    "$$ \\Sigma_i \\omega_i \\phi(\\vert \\vec{q}_i - \\vec{p}_j\\vert) + \\vec{a}\\vec{q} + b = f_j$$ \n",
    "\n",
    "Or in Block-Matrix form \n",
    "\n",
    "$$ \n",
    "\\begin{bmatrix} \n",
    "\\Phi & \\vec{P} \\\\ \\vec{P}^T & 0\n",
    "\\end{bmatrix} \n",
    "\\begin{bmatrix} \n",
    "\\vec{\\omega} \\\\ \\vec{a}\n",
    "\\end{bmatrix} = \n",
    "\\begin{bmatrix} \n",
    "f \\\\ 0\n",
    "\\end{bmatrix} \n",
    "$$ \n",
    "\n",
    "where \n",
    "- $\\Phi_{ij} = \\phi(\\vert \\vec{q}_j - \\vec{p}_i \\vert )$\n",
    "- $\\vec{P} = [1, x_i, y_i, z_i]$"
   ]
  },
  {
   "cell_type": "code",
   "execution_count": 32,
   "id": "73fb1f9f-84da-442b-a5aa-2a07985b0c22",
   "metadata": {},
   "outputs": [
    {
     "name": "stdout",
     "output_type": "stream",
     "text": [
      "(600, 4) (600, 200)\n"
     ]
    }
   ],
   "source": [
    "print(P.shape,Phi.shape)"
   ]
  },
  {
   "cell_type": "code",
   "execution_count": 33,
   "id": "876936bb-9b03-4cdf-828d-2c4d99c6222d",
   "metadata": {},
   "outputs": [],
   "source": [
    "A = np.block([\n",
    "    # [Phi, P],\n",
    "    [P.T, np.zeros((4,4))]\n",
    "])\n",
    "\n",
    "B = np.block([\n",
    "    [Phi, P],\n",
    "    # [P.T, np.zeros((4,4))]\n",
    "])"
   ]
  },
  {
   "cell_type": "code",
   "execution_count": 30,
   "id": "51955ca6-c28e-46a8-bb5a-94524f193881",
   "metadata": {},
   "outputs": [
    {
     "name": "stdout",
     "output_type": "stream",
     "text": [
      "(4, 604) (600, 204)\n"
     ]
    }
   ],
   "source": [
    "print(A.shape,B.shape)"
   ]
  },
  {
   "cell_type": "code",
   "execution_count": 18,
   "id": "8a2a8f17-a296-4858-b7d3-cf2f97265c11",
   "metadata": {},
   "outputs": [
    {
     "ename": "ValueError",
     "evalue": "all the input array dimensions except for the concatenation axis must match exactly, but along dimension 1, the array at index 0 has size 204 and the array at index 1 has size 604",
     "output_type": "error",
     "traceback": [
      "\u001b[31m---------------------------------------------------------------------------\u001b[39m",
      "\u001b[31mValueError\u001b[39m                                Traceback (most recent call last)",
      "\u001b[36mCell\u001b[39m\u001b[36m \u001b[39m\u001b[32mIn[18]\u001b[39m\u001b[32m, line 48\u001b[39m\n\u001b[32m     45\u001b[39m \u001b[38;5;66;03m# Polynomial terms\u001b[39;00m\n\u001b[32m     46\u001b[39m P = np.hstack([np.ones((\u001b[38;5;28mlen\u001b[39m(Q),\u001b[32m1\u001b[39m)), Q])\n\u001b[32m---> \u001b[39m\u001b[32m48\u001b[39m A = \u001b[43mnp\u001b[49m\u001b[43m.\u001b[49m\u001b[43mblock\u001b[49m\u001b[43m(\u001b[49m\u001b[43m[\u001b[49m\n\u001b[32m     49\u001b[39m \u001b[43m    \u001b[49m\u001b[43m[\u001b[49m\u001b[43mPhi\u001b[49m\u001b[43m,\u001b[49m\u001b[43m \u001b[49m\u001b[43mP\u001b[49m\u001b[43m]\u001b[49m\u001b[43m,\u001b[49m\n\u001b[32m     50\u001b[39m \u001b[43m    \u001b[49m\u001b[43m[\u001b[49m\u001b[43mP\u001b[49m\u001b[43m.\u001b[49m\u001b[43mT\u001b[49m\u001b[43m,\u001b[49m\u001b[43m \u001b[49m\u001b[43mnp\u001b[49m\u001b[43m.\u001b[49m\u001b[43mzeros\u001b[49m\u001b[43m(\u001b[49m\u001b[43m(\u001b[49m\u001b[32;43m4\u001b[39;49m\u001b[43m,\u001b[49m\u001b[32;43m4\u001b[39;49m\u001b[43m)\u001b[49m\u001b[43m)\u001b[49m\u001b[43m]\u001b[49m\n\u001b[32m     51\u001b[39m \u001b[43m]\u001b[49m\u001b[43m)\u001b[49m\n\u001b[32m     53\u001b[39m b = np.concatenate([f,np.zeros(\u001b[32m4\u001b[39m)])\n\u001b[32m     54\u001b[39m \u001b[38;5;66;03m# solve\u001b[39;00m\n",
      "\u001b[36mFile \u001b[39m\u001b[32m~/miniconda3/envs/tutorial/lib/python3.13/site-packages/numpy/_core/shape_base.py:949\u001b[39m, in \u001b[36mblock\u001b[39m\u001b[34m(arrays)\u001b[39m\n\u001b[32m    947\u001b[39m     \u001b[38;5;28;01mreturn\u001b[39;00m _block_slicing(arrays, list_ndim, result_ndim)\n\u001b[32m    948\u001b[39m \u001b[38;5;28;01melse\u001b[39;00m:\n\u001b[32m--> \u001b[39m\u001b[32m949\u001b[39m     \u001b[38;5;28;01mreturn\u001b[39;00m \u001b[43m_block_concatenate\u001b[49m\u001b[43m(\u001b[49m\u001b[43marrays\u001b[49m\u001b[43m,\u001b[49m\u001b[43m \u001b[49m\u001b[43mlist_ndim\u001b[49m\u001b[43m,\u001b[49m\u001b[43m \u001b[49m\u001b[43mresult_ndim\u001b[49m\u001b[43m)\u001b[49m\n",
      "\u001b[36mFile \u001b[39m\u001b[32m~/miniconda3/envs/tutorial/lib/python3.13/site-packages/numpy/_core/shape_base.py:991\u001b[39m, in \u001b[36m_block_concatenate\u001b[39m\u001b[34m(arrays, list_ndim, result_ndim)\u001b[39m\n\u001b[32m    990\u001b[39m \u001b[38;5;28;01mdef\u001b[39;00m\u001b[38;5;250m \u001b[39m\u001b[34m_block_concatenate\u001b[39m(arrays, list_ndim, result_ndim):\n\u001b[32m--> \u001b[39m\u001b[32m991\u001b[39m     result = \u001b[43m_block\u001b[49m\u001b[43m(\u001b[49m\u001b[43marrays\u001b[49m\u001b[43m,\u001b[49m\u001b[43m \u001b[49m\u001b[43mlist_ndim\u001b[49m\u001b[43m,\u001b[49m\u001b[43m \u001b[49m\u001b[43mresult_ndim\u001b[49m\u001b[43m)\u001b[49m\n\u001b[32m    992\u001b[39m     \u001b[38;5;28;01mif\u001b[39;00m list_ndim == \u001b[32m0\u001b[39m:\n\u001b[32m    993\u001b[39m         \u001b[38;5;66;03m# Catch an edge case where _block returns a view because\u001b[39;00m\n\u001b[32m    994\u001b[39m         \u001b[38;5;66;03m# `arrays` is a single numpy array and not a list of numpy arrays.\u001b[39;00m\n\u001b[32m    995\u001b[39m         \u001b[38;5;66;03m# This might copy scalars or lists twice, but this isn't a likely\u001b[39;00m\n\u001b[32m    996\u001b[39m         \u001b[38;5;66;03m# usecase for those interested in performance\u001b[39;00m\n\u001b[32m    997\u001b[39m         result = result.copy()\n",
      "\u001b[36mFile \u001b[39m\u001b[32m~/miniconda3/envs/tutorial/lib/python3.13/site-packages/numpy/_core/shape_base.py:762\u001b[39m, in \u001b[36m_block\u001b[39m\u001b[34m(arrays, max_depth, result_ndim, depth)\u001b[39m\n\u001b[32m    759\u001b[39m \u001b[38;5;28;01mif\u001b[39;00m depth < max_depth:\n\u001b[32m    760\u001b[39m     arrs = [_block(arr, max_depth, result_ndim, depth + \u001b[32m1\u001b[39m)\n\u001b[32m    761\u001b[39m             \u001b[38;5;28;01mfor\u001b[39;00m arr \u001b[38;5;129;01min\u001b[39;00m arrays]\n\u001b[32m--> \u001b[39m\u001b[32m762\u001b[39m     \u001b[38;5;28;01mreturn\u001b[39;00m \u001b[43m_concatenate\u001b[49m\u001b[43m(\u001b[49m\u001b[43marrs\u001b[49m\u001b[43m,\u001b[49m\u001b[43m \u001b[49m\u001b[43maxis\u001b[49m\u001b[43m=\u001b[49m\u001b[43m-\u001b[49m\u001b[43m(\u001b[49m\u001b[43mmax_depth\u001b[49m\u001b[43m \u001b[49m\u001b[43m-\u001b[49m\u001b[43m \u001b[49m\u001b[43mdepth\u001b[49m\u001b[43m)\u001b[49m\u001b[43m)\u001b[49m\n\u001b[32m    763\u001b[39m \u001b[38;5;28;01melse\u001b[39;00m:\n\u001b[32m    764\u001b[39m     \u001b[38;5;66;03m# We've 'bottomed out' - arrays is either a scalar or an array\u001b[39;00m\n\u001b[32m    765\u001b[39m     \u001b[38;5;66;03m# type(arrays) is not list\u001b[39;00m\n\u001b[32m    766\u001b[39m     \u001b[38;5;28;01mreturn\u001b[39;00m _atleast_nd(arrays, result_ndim)\n",
      "\u001b[31mValueError\u001b[39m: all the input array dimensions except for the concatenation axis must match exactly, but along dimension 1, the array at index 0 has size 204 and the array at index 1 has size 604"
     ]
    }
   ],
   "source": [
    "# 3D point cloud interpolation\n",
    "# we'll sample points from a spehere \n",
    "\n",
    "np.random.seed(0)\n",
    "N = \n",
    "phi = 2 * np.pi * np.random.rand(N)\n",
    "costheta = 2*np.random.rand(N) - 1\n",
    "theta = np.arccos(costheta)\n",
    "x = np.sin(theta) * np.cos(phi)\n",
    "y = np.sin(theta) * np.sin(phi)\n",
    "z = np.cos(theta)\n",
    "points = np.vstack([x, y, z]).T\n",
    "\n",
    "#Normals \n",
    "normals = points.copy()\n",
    "\n",
    "delta = 0.05\n",
    "points_in = points - delta * normals\n",
    "points_out = points + delta * normals\n",
    "\n",
    "# combine all poitns\n",
    "Q = np.vstack([\n",
    "    points,              # original surface points \n",
    "    points_in,           # generated inside-points\n",
    "    points_out           # generated outside-points\n",
    "])\n",
    "f = np.concatenate([\n",
    "    np.zeros(N),          # surface\n",
    "    -delta*np.ones(N),    # inside\n",
    "    +delta*np.ones(N)     # outside\n",
    "])\n",
    "\n",
    "# Gaussian RBF\n",
    "def gaussian_rbf(r, epsilon=2.0):\n",
    "    return np.exp(-(epsilon * r)**2)\n",
    "\n",
    "# Pairwise distance\n",
    "def pairwise_dist(A, B):\n",
    "    return np.linalg.norm(A[:, None, :] - B[None, :, :], axis=-1)\n",
    "\n",
    "# build block matrix equation\n",
    "epsilon = 2.0\n",
    "Phi = gaussian_rbf(pairwise_dist(Q, points), epsilon)\n",
    "\n",
    "# Polynomial terms\n",
    "P = np.hstack([np.ones((len(Q),1)), Q])\n",
    "\n",
    "A = np.block([\n",
    "    [Phi, P],\n",
    "    [P.T, np.zeros((4,4))]\n",
    "])\n",
    "\n",
    "b = np.concatenate([f,np.zeros(4)])\n",
    "# solve\n",
    "w_a = np.linalg.lstsq(A,b,rcond=None)[0]\n",
    "w = w_a[:-4]\n",
    "a = w_a[-4:]\n",
    "\n",
    "# Evaluate on a grid\n",
    "grid_x,grid_y,grid_z = [np.linspace(-1.5,1.5,40)]*3\n",
    "X,Y,Z = np.meshgrid(grid_x,grid_y,grid_z)\n",
    "grid = np.stack([X.ravel(), Y.ravel(), Z.ravel()], axis=1)\n",
    "\n",
    "Phi_eval = gaussian_rbf(pairwise_dist(grid, points), epsilon)\n",
    "P_eval = np.hstack([np.ones((len(grid),1)), grid])\n",
    "f_eval = Phi_eval @ w + P_eval @ a\n",
    "f_eval = f_eval.reshape(X.shape)\n",
    "\n",
    "# Visualize implicit surface (f=0)\n",
    "from skimage import measure\n",
    "verts, faces, normals, values = measure.marching_cubes(f_eval, level=0, spacing=(grid_x[1]-grid_x[0],)*3)\n",
    "\n",
    "# Plot\n",
    "fig = plt.figure(figsize=(6,6))\n",
    "ax = fig.add_subplot(111, projection='3d')\n",
    "ax.plot_trisurf(verts[:,0]-1.5, verts[:,1]-1.5, faces, verts[:,2]-1.5,\n",
    "                color='lightblue', alpha=0.6, linewidth=0)\n",
    "ax.scatter(points[:,0], points[:,1], points[:,2], color='r', s=10)\n",
    "ax.set_title(\"RBF Surface Reconstruction from Point Cloud\")\n",
    "plt.show()\n"
   ]
  },
  {
   "cell_type": "code",
   "execution_count": null,
   "id": "ff3d5559-3c3a-495f-884c-473f03b4be64",
   "metadata": {},
   "outputs": [],
   "source": []
  },
  {
   "cell_type": "code",
   "execution_count": 16,
   "id": "01725fd7-3a5c-486c-8beb-0dddfac36e48",
   "metadata": {},
   "outputs": [
    {
     "data": {
      "text/plain": [
       "array([[ 1.00000000e+00,  3.13988507e-03,  6.15067646e-01, ...,\n",
       "         7.05264878e-05,  6.61708275e-04,  1.54308015e-01],\n",
       "       [ 3.13988507e-03,  1.00000000e+00,  3.53968952e-02, ...,\n",
       "         6.60044890e-08,  3.11464135e-06,  8.80757244e-06],\n",
       "       [ 6.15067646e-01,  3.53968952e-02,  1.00000000e+00, ...,\n",
       "         4.35264158e-06,  2.23338607e-04,  1.81176595e-02],\n",
       "       ...,\n",
       "       [-8.83219805e-01, -1.99552236e-01, -7.74449899e-01, ...,\n",
       "        -2.75322072e-02,  2.48649139e-01, -7.47530340e-01],\n",
       "       [-2.79713454e-01, -8.97761573e-01, -5.83479993e-01, ...,\n",
       "         1.00558034e+00,  9.49026255e-02,  3.26743588e-01],\n",
       "       [-3.76408236e-01,  3.92686978e-01, -2.44496321e-01, ...,\n",
       "        -3.00915530e-01, -1.01571014e+00, -6.61012117e-01]],\n",
       "      shape=(204, 600))"
      ]
     },
     "execution_count": 16,
     "metadata": {},
     "output_type": "execute_result"
    }
   ],
   "source": [
    "np.concatenate([Phi.T,P.T])"
   ]
  },
  {
   "cell_type": "code",
   "execution_count": null,
   "id": "e2f42ae5-f025-4875-8865-d82386a126f0",
   "metadata": {},
   "outputs": [],
   "source": []
  }
 ],
 "metadata": {
  "kernelspec": {
   "display_name": "Python 3 (ipykernel)",
   "language": "python",
   "name": "python3"
  },
  "language_info": {
   "codemirror_mode": {
    "name": "ipython",
    "version": 3
   },
   "file_extension": ".py",
   "mimetype": "text/x-python",
   "name": "python",
   "nbconvert_exporter": "python",
   "pygments_lexer": "ipython3",
   "version": "3.13.7"
  }
 },
 "nbformat": 4,
 "nbformat_minor": 5
}
