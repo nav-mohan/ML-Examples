{
 "cells": [
  {
   "cell_type": "markdown",
   "id": "b3d206b8-0527-4025-9106-ee188bff1f3b",
   "metadata": {},
   "source": [
    "#### A basic NN built from scratch. \n",
    "Achieves 90% accuracy on MNIST dataset. "
   ]
  },
  {
   "cell_type": "code",
   "execution_count": 4,
   "id": "3d6c0674-31f7-496f-a461-719b9651e0c4",
   "metadata": {},
   "outputs": [],
   "source": [
    "import numpy as np\n",
    "import pandas as pd\n",
    "\n",
    "data = pd.read_csv(\"mnist_train.csv\")\n",
    "data = np.array(data)\n",
    "m,n = data.shape\n",
    "# dataset has 1 row of headers, (label, pixel1, pixel2, pixel3, ... pixel 784)\n",
    "# 59999 rows of data (m = 59999)\n",
    "# dataset has 785 columns (n = 785)\n",
    "# 1 column for label (0,1,2 ... 9)\n",
    "# 784 columns for pixel values (0-256)\n",
    "\n",
    "# the first 1000 rows will be used for \"dev\" testing\n",
    "# we do a transpose so we can easily separate the label from the pixels\n",
    "data_dev = data[0:1000].T \n",
    "Y_dev = data_dev[0] # label\n",
    "X_dev = data_dev[1:n] # pixels\n",
    "\n",
    "# this is the remaining 58999 rows of data that we'll use for training\n",
    "# we do a transpose so we can easily separate the label from the pixels\n",
    "data_train = data[1000:m].T\n",
    "Y_train = data_train[0] # row of length 58999\n",
    "X_train = data_train[1:n] # 784 rows, 58999 columns, \n",
    "X_train = X_train/255\n",
    "X_dev = X_dev/255\n"
   ]
  },
  {
   "cell_type": "code",
   "execution_count": 46,
   "id": "aea2e6c4-2f32-4e71-9721-65313689207b",
   "metadata": {},
   "outputs": [
    {
     "data": {
      "image/png": "[encoded data removed]",
      "text/plain": [
       "<Figure size 300x200 with 1 Axes>"
      ]
     },
     "metadata": {},
     "output_type": "display_data"
    }
   ],
   "source": [
    "def init_params():\n",
    "    W1 = np.random.randn(10, 784) * np.sqrt(2/784)\n",
    "    W2 = np.random.randn(10, 10) * np.sqrt(2/10)\n",
    "    b1 = np.zeros((10, 1))\n",
    "    b2 = np.zeros((10, 1))\n",
    "\n",
    "    # these init_params caused vanishing gradients.\n",
    "    # W1 = np.random.randn(10,784) - 0.5\n",
    "    # W2 = np.random.randn(10,10) - 0.5\n",
    "    # b1 = np.random.randn(10,1) - 0.5\n",
    "    # b2 = np.random.randn(10,1) - 0.5\n",
    "    return W1,b1,W2,b2\n",
    "\n",
    "m1 = np.random.randn(10, 784) * np.sqrt(2/784) # , zero mean, small variance\n",
    "m2 = np.random.randn(10,784) - 0.5 # mean shifted, large variance\n",
    "plt.figure(figsize=(3, 2))\n",
    "plt.hist(m1.flatten(),alpha=0.5)\n",
    "plt.hist(m2.flatten(),alpha=0.5)\n",
    "plt.show()"
   ]
  },
  {
   "cell_type": "code",
   "execution_count": 6,
   "id": "991841a0-b5cb-42b7-b6e9-98a9367e4830",
   "metadata": {},
   "outputs": [],
   "source": [
    "def ReLU(Z):\n",
    "    # if Z > 0: return Z\n",
    "    # else : return 0\n",
    "    return np.maximum(0,Z)\n",
    "\n",
    "def deriv_ReLU(Z):\n",
    "    # if Z > 0: return 1\n",
    "    # else : return 0\n",
    "    return (Z > 0).astype(float)\n",
    "\n",
    "def softmax(Z):\n",
    "    maxZ = np.max(Z,    axis = 0, keepdims=True)\n",
    "    expZ = np.exp(Z - maxZ)\n",
    "    sumZ = np.sum(expZ, axis = 0, keepdims=True)\n",
    "    return expZ/sumZ\n",
    "\n",
    "def forward_prop(W1,b1,W2,b2,X):\n",
    "    Z1 = W1.dot(X) + b1\n",
    "    A1 = ReLU(Z1)\n",
    "    Z2 = W2.dot(A1) + b2\n",
    "    A2 = softmax(Z2)\n",
    "    return (Z1,A1,Z2,A2)\n",
    "\n",
    "def one_hot(Y):\n",
    "    one_hot_Y = np.zeros((Y.size,Y.max() + 1))\n",
    "    one_hot_Y[np.arange(Y.size), Y] = 1\n",
    "    one_hot_Y = one_hot_Y.T\n",
    "    return one_hot_Y\n",
    "\n",
    "def back_prop(Z1, A1, Z2, A2, W2, X, Y):\n",
    "    one_hot_Y = one_hot(Y)\n",
    "    dZ2 = A2 - one_hot_Y\n",
    "    dW2 = 1/m * dZ2.dot(A1.T)\n",
    "    db2 = 1/m * np.sum(dZ2, axis=1,keepdims=True)\n",
    "    dZ1 = W2.T.dot(dZ2) * deriv_ReLU(Z1)\n",
    "    dW1 = 1/m * dZ1.dot(X.T)\n",
    "    db1 = 1/m * np.sum(dZ1, axis=1,keepdims=True)\n",
    "    return (dW1, db1, dW2, db2)\n",
    "\n",
    "def update_params(W1, b1, W2, b2, dW1, db1, dW2, db2, alpha):\n",
    "    W1 -= alpha*dW1\n",
    "    b1 -= alpha*db1\n",
    "    W2 -= alpha*dW2\n",
    "    b2 -= alpha*db2\n",
    "    return (W1,b1,W2,b2)\n",
    "    \n",
    "def get_predictions(A2):\n",
    "    return np.argmax(A2,0)\n",
    "\n",
    "def get_accuracy(predictions,Y):\n",
    "    print(predictions,Y)\n",
    "    return np.sum(predictions==Y)/Y.size\n",
    "\n",
    "def gradient_descent(X,Y,iterations,alpha):\n",
    "    W1,b1,W2,b2 = init_params()\n",
    "    for i in range(iterations+1):\n",
    "        Z1,A1,Z2,A2 = forward_prop(W1,b1,W2,b2,X)\n",
    "        dW1, db1, dW2, db2 = back_prop(Z1, A1, Z2, A2, W2, X, Y)\n",
    "        W1,b1,W2,b2 = update_params(W1,b1,W2,b2,dW1,db1,dW2,db2,alpha)\n",
    "        if i%50 == 0:\n",
    "            print(f\"{i} : {get_accuracy(get_predictions(A2),Y)}\")\n",
    "\n",
    "    return W1,b1,W2,b2"
   ]
  },
  {
   "cell_type": "code",
   "execution_count": 7,
   "id": "99c7d734-ae60-4d2f-aab0-85a7a9f273fb",
   "metadata": {},
   "outputs": [
    {
     "name": "stdout",
     "output_type": "stream",
     "text": [
      "[2 9 9 ... 9 9 9] [7 1 1 ... 5 6 8]\n",
      "0 : 0.08639129476770793\n",
      "[4 1 1 ... 5 6 8] [7 1 1 ... 5 6 8]\n",
      "50 : 0.6977575891116798\n",
      "[4 1 1 ... 5 6 8] [7 1 1 ... 5 6 8]\n",
      "100 : 0.7984542110883235\n",
      "[4 1 1 ... 5 6 8] [7 1 1 ... 5 6 8]\n",
      "150 : 0.8400481364090917\n",
      "[4 1 1 ... 5 6 8] [7 1 1 ... 5 6 8]\n",
      "200 : 0.8613535822641062\n",
      "[7 1 1 ... 5 6 8] [7 1 1 ... 5 6 8]\n",
      "250 : 0.8730486957406057\n",
      "[7 1 1 ... 5 6 8] [7 1 1 ... 5 6 8]\n",
      "300 : 0.8808284886184512\n",
      "[7 1 1 ... 5 6 8] [7 1 1 ... 5 6 8]\n",
      "350 : 0.8871506296716893\n",
      "[7 1 1 ... 5 6 8] [7 1 1 ... 5 6 8]\n",
      "400 : 0.891659180664079\n",
      "[7 1 1 ... 5 6 8] [7 1 1 ... 5 6 8]\n",
      "450 : 0.8952524619061341\n",
      "[7 1 1 ... 5 6 8] [7 1 1 ... 5 6 8]\n",
      "500 : 0.8983203105137375\n"
     ]
    }
   ],
   "source": [
    "W1,b1,W2,b2 =gradient_descent(X_train,Y_train,500,0.1)"
   ]
  },
  {
   "cell_type": "code",
   "execution_count": null,
   "id": "5f53017e-acbc-46a2-8b1e-0d1f769b71e8",
   "metadata": {},
   "outputs": [],
   "source": []
  }
 ],
 "metadata": {
  "kernelspec": {
   "display_name": "Python 3 (ipykernel)",
   "language": "python",
   "name": "python3"
  },
  "language_info": {
   "codemirror_mode": {
    "name": "ipython",
    "version": 3
   },
   "file_extension": ".py",
   "mimetype": "text/x-python",
   "name": "python",
   "nbconvert_exporter": "python",
   "pygments_lexer": "ipython3",
   "version": "3.13.7"
  }
 },
 "nbformat": 4,
 "nbformat_minor": 5
}
